{
 "cells": [
  {
   "cell_type": "markdown",
   "metadata": {},
   "source": [
    "# The Monty Hall Problem\n",
    "\n",
    "## Introduction\n",
    "\n",
    "The Monty Hall problem is a famous little puzzle from a game show. It goes like this: you are presented with 3 doors. Behind two are goats and behind the third is a car. You are asked to select a door; if you select the door with the car, you win! After selecting, the host then opens one of the remaining two doors, revealing a goat. The host then asks if you would like to switch doors or stick with your original choice. What would you do? Does it matter?\n",
    "\n",
    "<img src=\"images/Image_58_MontyHall.png\">\n",
    "\n",
    "## Objectives\n",
    "\n",
    "In this lab you will:\n",
    "\n",
    "- Use Bayes theorem along with a simulation to solve the Monty Hall problem"
   ]
  },
  {
   "cell_type": "markdown",
   "metadata": {},
   "source": [
    "## Run a simulation\n",
    "\n",
    "This is not a traditional application of Bayes' theorem, so trying to formulate the problem as such is tricky at best. That said, the scenario does capture the motivating conception behind Bayesian statistics: updating our beliefs in the face of additional evidence. With this, you'll employ another frequently used tool Bayesians frequently employ, running simulations. To do this, generate a random integer between one and three to represent the door hiding the car. Then, generate a second integer between one and three representing the player's selection. Then, of those the contestant did not choose, select a door concealing a goat to reveal. Record the results of the simulated game if they changed versus if they did not. Repeat this process a thousand (or more) times. Finally, plot the results of your simulation as a line graph. The x-axis should be the number of simulations, and the y-axis should be the probability of winning. (There should be two lines on the graph, one for switching doors, and the other for keeping the original selection.)"
   ]
  },
  {
   "cell_type": "code",
   "execution_count": null,
   "metadata": {},
   "outputs": [],
   "source": [
    "car = 1\n",
    "guess = 2\n",
    "doors = {0, 1, 2}\n",
    "doors - {car, guess}"
   ]
  },
  {
   "cell_type": "code",
   "execution_count": null,
   "metadata": {},
   "outputs": [],
   "source": [
    "import random\n",
    "import numpy as np\n",
    "\n",
    "def monty_hall():\n",
    "    \"\"\"Runs random Monty Hall problem, returns success/fail of guess and switch.\"\"\"\n",
    "    doors = {0, 1, 2}\n",
    "    car, = random.sample(doors, 1) # the comma is needed because random.sample returns a list\n",
    "    guess, = random.sample(doors, 1)\n",
    "    unpicked_goats = doors - {car, guess}\n",
    "    open_goat, = random.sample(unpicked_goats, 1)\n",
    "    switch, = doors - {guess, open_goat}  # only one door left\n",
    "    return guess == car, switch == car\n",
    "\n",
    "def repeat_monty_hall(repeat=1000):\n",
    "    \"\"\"Runs Monty Hall problem repeat times. Prints success rate and graph.\"\"\"\n",
    "    trials = np.zeros((repeat, 2))\n",
    "    for i in range(repeat):\n",
    "        trials[i] = np.array([[monty_hall()]])\n",
    "    guess, switch = trials.T\n",
    "    plt.plot(range(repeat), guess.cumsum() / (np.arange(repeat) + 1), label='initial guess')\n",
    "    plt.plot(range(repeat), switch.cumsum() / (np.arange(repeat) + 1), label='switch')\n",
    "    plt.legend()\n",
    "    plt.title(\"Monty Hall Success Rate\")\n",
    "    print('initial guess success rate: ', np.mean(guess))\n",
    "    print('switched guess success rate: ', np.mean(switch))\n",
    "    return trials\n",
    "\n",
    "repeat = 1000\n",
    "trials = repeat_monty_hall(repeat)"
   ]
  },
  {
   "cell_type": "code",
   "execution_count": null,
   "metadata": {},
   "outputs": [],
   "source": [
    "# An alternative way to plot the two lines\n",
    "plt.plot(range(repeat), (trials.cumsum(axis=0).T / (np.arange(repeat) + 1)).T)\n",
    "plt.legend(labels=(\"initial guess\", \"switch\"));"
   ]
  },
  {
   "cell_type": "markdown",
   "metadata": {},
   "source": [
    "## Summary\n",
    "\n",
    "In this lab, you further investigated the idea of Bayes' theorem and Bayesian statistics in general through the Monty Hall problem. Hopefully, this was an entertaining little experience! "
   ]
  }
 ],
 "metadata": {
  "language_info": {
   "name": "python",
   "pygments_lexer": "ipython3"
  }
 },
 "nbformat": 4,
 "nbformat_minor": 2
}
